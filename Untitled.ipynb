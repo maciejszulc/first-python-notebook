{
 "cells": [
  {
   "cell_type": "code",
   "execution_count": 1,
   "metadata": {},
   "outputs": [
    {
     "name": "stdout",
     "output_type": "stream",
     "text": [
      "['papież', 'kremówka', 'małe dzieci']\n"
     ]
    }
   ],
   "source": [
    "random_list = [\"papież\", \"kremówka\", \"małe dzieci\"]\n",
    "print(random_list)"
   ]
  },
  {
   "cell_type": "code",
   "execution_count": 2,
   "metadata": {},
   "outputs": [
    {
     "name": "stdout",
     "output_type": "stream",
     "text": [
      "['papież', 'kremówka', 'małe dzieci']\n"
     ]
    }
   ],
   "source": [
    "print(random_list[::1])"
   ]
  },
  {
   "cell_type": "code",
   "execution_count": 3,
   "metadata": {},
   "outputs": [
    {
     "name": "stdout",
     "output_type": "stream",
     "text": [
      "['papież']\n"
     ]
    }
   ],
   "source": [
    "print(random_list[:1])"
   ]
  },
  {
   "cell_type": "code",
   "execution_count": 4,
   "metadata": {},
   "outputs": [
    {
     "name": "stdout",
     "output_type": "stream",
     "text": [
      "['papież', 'kremówka']\n"
     ]
    }
   ],
   "source": [
    "print(random_list[:-1])"
   ]
  },
  {
   "cell_type": "code",
   "execution_count": 5,
   "metadata": {},
   "outputs": [
    {
     "name": "stdout",
     "output_type": "stream",
     "text": [
      "What is your favourite color? Blue\n",
      "B\n",
      "l\n",
      "u\n",
      "e\n"
     ]
    }
   ],
   "source": [
    "some_string = input(\"What is your favourite color? \")\n",
    "str = \"\"\n",
    "for i in some_string:\n",
    "    reversed_some_string = str + i\n",
    "    print(reversed_some_string)\n",
    "    "
   ]
  },
  {
   "cell_type": "code",
   "execution_count": 6,
   "metadata": {},
   "outputs": [
    {
     "name": "stdout",
     "output_type": "stream",
     "text": [
      "What is your favourite color? Orange\n"
     ]
    },
    {
     "ename": "SyntaxError",
     "evalue": "'return' outside function (<ipython-input-6-b9dcfd3b712d>, line 5)",
     "output_type": "error",
     "traceback": [
      "\u001b[0;36m  File \u001b[0;32m\"<ipython-input-6-b9dcfd3b712d>\"\u001b[0;36m, line \u001b[0;32m5\u001b[0m\n\u001b[0;31m    return s\u001b[0m\n\u001b[0m    ^\u001b[0m\n\u001b[0;31mSyntaxError\u001b[0m\u001b[0;31m:\u001b[0m 'return' outside function\n"
     ]
    }
   ],
   "source": [
    "some_string = input(\"What is your favourite color? \")\n",
    "s = \"\"\n",
    "for i in some_string:\n",
    "    s = i + s\n",
    "    return s"
   ]
  },
  {
   "cell_type": "code",
   "execution_count": 7,
   "metadata": {},
   "outputs": [
    {
     "ename": "SyntaxError",
     "evalue": "invalid syntax (<ipython-input-7-27d069e82c33>, line 3)",
     "output_type": "error",
     "traceback": [
      "\u001b[0;36m  File \u001b[0;32m\"<ipython-input-7-27d069e82c33>\"\u001b[0;36m, line \u001b[0;32m3\u001b[0m\n\u001b[0;31m    def reversal_of_strings(a)\u001b[0m\n\u001b[0m                              ^\u001b[0m\n\u001b[0;31mSyntaxError\u001b[0m\u001b[0;31m:\u001b[0m invalid syntax\n"
     ]
    }
   ],
   "source": [
    "some_string = input(\"What is your favourite color? \")\n",
    "\n",
    "def reversal_of_strings(a)\n",
    "    s = \"\"\n",
    "    for i in some_string:\n",
    "        s = i + s\n",
    "        return s\n",
    "    \n",
    "print(\"It actually is: {0}.\".format(reversal_of_strings(some_string)))"
   ]
  },
  {
   "cell_type": "code",
   "execution_count": 8,
   "metadata": {},
   "outputs": [
    {
     "name": "stdout",
     "output_type": "stream",
     "text": [
      "What is your favourite color? Orange\n",
      "It actually is: O.\n"
     ]
    }
   ],
   "source": [
    "some_string = input(\"What is your favourite color? \")\n",
    "\n",
    "def reversal_of_strings(a):\n",
    "    s = \"\"\n",
    "    for i in some_string:\n",
    "        s = i + s\n",
    "        return s\n",
    "    \n",
    "print(\"It actually is: {0}.\".format(reversal_of_strings(some_string)))"
   ]
  },
  {
   "cell_type": "code",
   "execution_count": 9,
   "metadata": {},
   "outputs": [
    {
     "ename": "SyntaxError",
     "evalue": "invalid syntax (<ipython-input-9-d2941e74e29b>, line 3)",
     "output_type": "error",
     "traceback": [
      "\u001b[0;36m  File \u001b[0;32m\"<ipython-input-9-d2941e74e29b>\"\u001b[0;36m, line \u001b[0;32m3\u001b[0m\n\u001b[0;31m    def reversal_of_strings(a)\u001b[0m\n\u001b[0m                              ^\u001b[0m\n\u001b[0;31mSyntaxError\u001b[0m\u001b[0;31m:\u001b[0m invalid syntax\n"
     ]
    }
   ],
   "source": [
    "some_string = input(\"What is your favourite color? \")\n",
    "\n",
    "def reversal_of_strings(a)\n",
    "    s = \"\"\n",
    "    for i in some_string:\n",
    "        s = i + s\n",
    "        return s\n",
    "    \n",
    "print(\"It actually is: \".reversal_of_strings(some_string))"
   ]
  },
  {
   "cell_type": "code",
   "execution_count": 10,
   "metadata": {},
   "outputs": [
    {
     "name": "stdout",
     "output_type": "stream",
     "text": [
      "What is your favourite color? Orange\n"
     ]
    },
    {
     "ename": "AttributeError",
     "evalue": "'str' object has no attribute 'reversal_of_strings'",
     "output_type": "error",
     "traceback": [
      "\u001b[0;31m---------------------------------------------------------------------------\u001b[0m",
      "\u001b[0;31mAttributeError\u001b[0m                            Traceback (most recent call last)",
      "\u001b[0;32m<ipython-input-10-e7bf1649195c>\u001b[0m in \u001b[0;36m<module>\u001b[0;34m\u001b[0m\n\u001b[1;32m      7\u001b[0m         \u001b[0;32mreturn\u001b[0m \u001b[0ms\u001b[0m\u001b[0;34m\u001b[0m\u001b[0m\n\u001b[1;32m      8\u001b[0m \u001b[0;34m\u001b[0m\u001b[0m\n\u001b[0;32m----> 9\u001b[0;31m \u001b[0mprint\u001b[0m\u001b[0;34m(\u001b[0m\u001b[0;34m\"It actually is: \"\u001b[0m\u001b[0;34m.\u001b[0m\u001b[0mreversal_of_strings\u001b[0m\u001b[0;34m(\u001b[0m\u001b[0msome_string\u001b[0m\u001b[0;34m)\u001b[0m\u001b[0;34m)\u001b[0m\u001b[0;34m\u001b[0m\u001b[0m\n\u001b[0m",
      "\u001b[0;31mAttributeError\u001b[0m: 'str' object has no attribute 'reversal_of_strings'"
     ]
    }
   ],
   "source": [
    "some_string = input(\"What is your favourite color? \")\n",
    "\n",
    "def reversal_of_strings(a):\n",
    "    s = \"\"\n",
    "    for i in some_string:\n",
    "        s = i + s\n",
    "        return s\n",
    "    \n",
    "print(\"It actually is: \".reversal_of_strings(some_string))"
   ]
  },
  {
   "cell_type": "code",
   "execution_count": 11,
   "metadata": {},
   "outputs": [
    {
     "name": "stdout",
     "output_type": "stream",
     "text": [
      "What is your favourite color? Orange\n",
      "It actually is: O\n"
     ]
    }
   ],
   "source": [
    "some_string = input(\"What is your favourite color? \")\n",
    "\n",
    "def reversal_of_strings(a):\n",
    "    s = \"\"\n",
    "    for i in some_string:\n",
    "        s = i + s\n",
    "        return s\n",
    "    \n",
    "print(\"It actually is: \" + reversal_of_strings(some_string))"
   ]
  },
  {
   "cell_type": "code",
   "execution_count": 12,
   "metadata": {},
   "outputs": [
    {
     "name": "stdout",
     "output_type": "stream",
     "text": [
      "What is your favourite color? Orange\n",
      "O\n"
     ]
    }
   ],
   "source": [
    "some_string = input(\"What is your favourite color? \")\n",
    "\n",
    "def reversal_of_strings(a):\n",
    "    s = \"\"\n",
    "    for i in some_string:\n",
    "        s = i + s\n",
    "        return s\n",
    "    \n",
    "print(reversal_of_strings(some_string))"
   ]
  },
  {
   "cell_type": "code",
   "execution_count": 13,
   "metadata": {},
   "outputs": [
    {
     "ename": "AttributeError",
     "evalue": "'str' object has no attribute 'reversal_of_strings'",
     "output_type": "error",
     "traceback": [
      "\u001b[0;31m---------------------------------------------------------------------------\u001b[0m",
      "\u001b[0;31mAttributeError\u001b[0m                            Traceback (most recent call last)",
      "\u001b[0;32m<ipython-input-13-318207568172>\u001b[0m in \u001b[0;36m<module>\u001b[0;34m\u001b[0m\n\u001b[1;32m      7\u001b[0m         \u001b[0;32mreturn\u001b[0m \u001b[0ms\u001b[0m\u001b[0;34m\u001b[0m\u001b[0m\n\u001b[1;32m      8\u001b[0m \u001b[0;34m\u001b[0m\u001b[0m\n\u001b[0;32m----> 9\u001b[0;31m \u001b[0mprint\u001b[0m\u001b[0;34m(\u001b[0m\u001b[0;34m\"It actually is: \"\u001b[0m\u001b[0;34m.\u001b[0m\u001b[0mreversal_of_strings\u001b[0m\u001b[0;34m(\u001b[0m\u001b[0msome_string\u001b[0m\u001b[0;34m)\u001b[0m\u001b[0;34m)\u001b[0m\u001b[0;34m\u001b[0m\u001b[0m\n\u001b[0m",
      "\u001b[0;31mAttributeError\u001b[0m: 'str' object has no attribute 'reversal_of_strings'"
     ]
    }
   ],
   "source": [
    "some_string = \"What is your favourite color? \"\n",
    "\n",
    "def reversal_of_strings(a):\n",
    "    s = \"\"\n",
    "    for i in some_string:\n",
    "        s = i + s\n",
    "        return s\n",
    "    \n",
    "print(\"It actually is: \".reversal_of_strings(some_string))"
   ]
  },
  {
   "cell_type": "code",
   "execution_count": 14,
   "metadata": {},
   "outputs": [
    {
     "name": "stdout",
     "output_type": "stream",
     "text": [
      "W\n"
     ]
    }
   ],
   "source": [
    "some_string = \"What is your favourite color? \"\n",
    "\n",
    "def reversal_of_strings(a):\n",
    "    s = \"\"\n",
    "    for i in some_string:\n",
    "        s = i + s\n",
    "        return s\n",
    "    \n",
    "print(reversal_of_strings(some_string))"
   ]
  },
  {
   "cell_type": "code",
   "execution_count": 15,
   "metadata": {},
   "outputs": [
    {
     "name": "stdout",
     "output_type": "stream",
     "text": [
      "e\n"
     ]
    }
   ],
   "source": [
    "some_string = \"What is your favourite color? \"\n",
    "\n",
    "def reversal_of_strings(a):\n",
    "    s = \"\"\n",
    "    for c in a:\n",
    "        s = i + s\n",
    "        return s\n",
    "    \n",
    "print(reversal_of_strings(some_string))"
   ]
  },
  {
   "cell_type": "code",
   "execution_count": 16,
   "metadata": {},
   "outputs": [
    {
     "name": "stdout",
     "output_type": "stream",
     "text": [
      "Reverse String using for loop = FE∂çBA\n"
     ]
    }
   ],
   "source": [
    "def reverse_for_loop(s):\n",
    "    s1 = ''\n",
    "    for c in s:\n",
    "        s1 = c + s1  # appending chars in reverse order\n",
    "    return s1\n",
    "\n",
    "input_str = 'ABç∂EF'\n",
    "\n",
    "if __name__ == \"__main__\":\n",
    "    print('Reverse String using for loop =', reverse_for_loop(input_str))"
   ]
  },
  {
   "cell_type": "code",
   "execution_count": 17,
   "metadata": {},
   "outputs": [
    {
     "name": "stdout",
     "output_type": "stream",
     "text": [
      "eeeeeeeeeeeeeeeeeeeeeeeeeeeeee\n"
     ]
    }
   ],
   "source": [
    "some_string = \"What is your favourite color? \"\n",
    "\n",
    "def reversal_of_strings(a):\n",
    "    s = \"\"\n",
    "    for c in a:\n",
    "        s = i + s\n",
    "    return s\n",
    "    \n",
    "print(reversal_of_strings(some_string))"
   ]
  },
  {
   "cell_type": "code",
   "execution_count": 18,
   "metadata": {},
   "outputs": [
    {
     "name": "stdout",
     "output_type": "stream",
     "text": [
      " ?roloc etiruovaf ruoy si tahW\n"
     ]
    }
   ],
   "source": [
    "some_string = \"What is your favourite color? \"\n",
    "\n",
    "def reversal_of_strings(a):\n",
    "    s = \"\"\n",
    "    for c in a:\n",
    "        s = c + s\n",
    "    return s\n",
    "    \n",
    "print(reversal_of_strings(some_string))"
   ]
  },
  {
   "cell_type": "code",
   "execution_count": 19,
   "metadata": {},
   "outputs": [
    {
     "name": "stdout",
     "output_type": "stream",
     "text": [
      "?noissim ruoy si tahW\n"
     ]
    }
   ],
   "source": [
    "reversed_string = \"What is your mission?\"[::-1]\n",
    "print(reversed_string)"
   ]
  },
  {
   "cell_type": "code",
   "execution_count": null,
   "metadata": {},
   "outputs": [],
   "source": []
  }
 ],
 "metadata": {
  "kernelspec": {
   "display_name": "Python 3",
   "language": "python",
   "name": "python3"
  },
  "language_info": {
   "codemirror_mode": {
    "name": "ipython",
    "version": 3
   },
   "file_extension": ".py",
   "mimetype": "text/x-python",
   "name": "python",
   "nbconvert_exporter": "python",
   "pygments_lexer": "ipython3",
   "version": "3.5.2"
  }
 },
 "nbformat": 4,
 "nbformat_minor": 2
}
